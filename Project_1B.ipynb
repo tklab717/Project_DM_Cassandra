{
 "cells": [
  {
   "cell_type": "markdown",
   "metadata": {},
   "source": [
    "# The Apache Cassandra coding\n",
    "\n",
    "## Purpose : Creating queries to ask the following three questions of the data\n",
    "1. Give me the artist, song title and song's length in the music app history that was heard during  sessionId = 338, and itemInSession  = 4\n",
    "2. Give me only the following: name of artist, song (sorted by itemInSession) and user (first and last name) for userid = 10, sessionid = 182\n",
    "3. Give me every user name (first and last) in my music app history who listened to the song 'All Hands Against His Own'\n",
    "\n",
    "\n",
    "## Dataset used: <font color=red>event_datafile_new.csv</font>, located within the Workspace directory.  The event_datafile_new.csv contains the following columns: \n",
    "- artist \n",
    "- firstName of user\n",
    "- gender of user\n",
    "- item number in session\n",
    "- last name of user\n",
    "- length of the song\n",
    "- level (paid or free song)\n",
    "- location of the user\n",
    "- sessionId\n",
    "- song title\n",
    "- userId\n",
    "\n",
    "The image below is a screenshot of what the denormalized data should appear like in the <font color=red>**event_datafile_new.csv**</font> after the code above is run:<br>\n",
    "\n",
    "<img src=\"images/image_event_datafile_new.jpg\">\n",
    "\n",
    "## Process\n",
    "1. Prepare database of appache cassandra\n",
    "2. Creating tables for each query and answering questions\n",
    "3. DROP tables"
   ]
  },
  {
   "cell_type": "markdown",
   "metadata": {},
   "source": [
    "# 1.Prepare database of appache cassandra"
   ]
  },
  {
   "cell_type": "markdown",
   "metadata": {},
   "source": [
    "#### Reference\n",
    "- CREATE KEYSPACE\n",
    "(https://docs.datastax.com/en/archived/cql/3.3/cql/cql_reference/cqlCreateKeyspace.html)"
   ]
  },
  {
   "cell_type": "code",
   "execution_count": 259,
   "metadata": {},
   "outputs": [],
   "source": [
    "import cassandra\n",
    "from cassandra.cluster import Cluster\n",
    "\n",
    "cluster = Cluster(['127.0.0.1'])\n",
    "session = cluster.connect()\n",
    "\n",
    "try:\n",
    "    session.execute(\"\"\"\n",
    "        CREATE KEYSPACE IF NOT EXISTS udacity\\\n",
    "        WITH REPLICATION =\\\n",
    "        {'class' : 'SimpleStrategy', 'replication_factor' : 1}\"\"\"\n",
    "    )\n",
    "except Exception as e:\n",
    "    print(e)\n",
    "\n",
    "try:\n",
    "    session.set_keyspace('udacity')\n",
    "except Exception as e:\n",
    "    print(e)"
   ]
  },
  {
   "cell_type": "markdown",
   "metadata": {},
   "source": [
    "## 2.Creating tables for each query and answering questions"
   ]
  },
  {
   "cell_type": "markdown",
   "metadata": {},
   "source": [
    "#### Reference\n",
    "- How to use row_factory and transform to pandas DataFrame from query data.\n",
    "(https://stackoverflow.com/questions/41247345/python-read-cassandra-data-into-pandas)"
   ]
  },
  {
   "cell_type": "markdown",
   "metadata": {},
   "source": [
    "### Get data and check\n",
    "- Content of data\n",
    "- The number of data"
   ]
  },
  {
   "cell_type": "code",
   "execution_count": 260,
   "metadata": {},
   "outputs": [],
   "source": [
    "import pandas as pd\n",
    "import csv"
   ]
  },
  {
   "cell_type": "code",
   "execution_count": 261,
   "metadata": {},
   "outputs": [
    {
     "data": {
      "text/html": [
       "<div>\n",
       "<style scoped>\n",
       "    .dataframe tbody tr th:only-of-type {\n",
       "        vertical-align: middle;\n",
       "    }\n",
       "\n",
       "    .dataframe tbody tr th {\n",
       "        vertical-align: top;\n",
       "    }\n",
       "\n",
       "    .dataframe thead th {\n",
       "        text-align: right;\n",
       "    }\n",
       "</style>\n",
       "<table border=\"1\" class=\"dataframe\">\n",
       "  <thead>\n",
       "    <tr style=\"text-align: right;\">\n",
       "      <th></th>\n",
       "      <th>artist</th>\n",
       "      <th>firstName</th>\n",
       "      <th>gender</th>\n",
       "      <th>itemInSession</th>\n",
       "      <th>lastName</th>\n",
       "      <th>length</th>\n",
       "      <th>level</th>\n",
       "      <th>location</th>\n",
       "      <th>sessionId</th>\n",
       "      <th>song</th>\n",
       "      <th>userId</th>\n",
       "    </tr>\n",
       "  </thead>\n",
       "  <tbody>\n",
       "    <tr>\n",
       "      <th>0</th>\n",
       "      <td>Rokia TraorÃÂ©</td>\n",
       "      <td>Stefany</td>\n",
       "      <td>F</td>\n",
       "      <td>0</td>\n",
       "      <td>White</td>\n",
       "      <td>274.88608</td>\n",
       "      <td>free</td>\n",
       "      <td>Lubbock, TX</td>\n",
       "      <td>693</td>\n",
       "      <td>Zen</td>\n",
       "      <td>83</td>\n",
       "    </tr>\n",
       "    <tr>\n",
       "      <th>1</th>\n",
       "      <td>Camila</td>\n",
       "      <td>Tucker</td>\n",
       "      <td>M</td>\n",
       "      <td>1</td>\n",
       "      <td>Garrison</td>\n",
       "      <td>230.81751</td>\n",
       "      <td>free</td>\n",
       "      <td>Oxnard-Thousand Oaks-Ventura, CA</td>\n",
       "      <td>555</td>\n",
       "      <td>Abrazame  (Version Acustica)</td>\n",
       "      <td>40</td>\n",
       "    </tr>\n",
       "    <tr>\n",
       "      <th>2</th>\n",
       "      <td>Carl Thomas</td>\n",
       "      <td>Tucker</td>\n",
       "      <td>M</td>\n",
       "      <td>0</td>\n",
       "      <td>Garrison</td>\n",
       "      <td>196.67546</td>\n",
       "      <td>free</td>\n",
       "      <td>Oxnard-Thousand Oaks-Ventura, CA</td>\n",
       "      <td>698</td>\n",
       "      <td>You Ain't Right (Album Version)</td>\n",
       "      <td>40</td>\n",
       "    </tr>\n",
       "    <tr>\n",
       "      <th>3</th>\n",
       "      <td>N.E.R.D.</td>\n",
       "      <td>James</td>\n",
       "      <td>M</td>\n",
       "      <td>0</td>\n",
       "      <td>Martin</td>\n",
       "      <td>242.99057</td>\n",
       "      <td>free</td>\n",
       "      <td>Dallas-Fort Worth-Arlington, TX</td>\n",
       "      <td>78</td>\n",
       "      <td>Provider (Remix Radio Edit)</td>\n",
       "      <td>79</td>\n",
       "    </tr>\n",
       "    <tr>\n",
       "      <th>4</th>\n",
       "      <td>Lil Jon / The East Side Boyz / DJ Flexx</td>\n",
       "      <td>Jacqueline</td>\n",
       "      <td>F</td>\n",
       "      <td>3</td>\n",
       "      <td>Lynch</td>\n",
       "      <td>285.30893</td>\n",
       "      <td>paid</td>\n",
       "      <td>Atlanta-Sandy Springs-Roswell, GA</td>\n",
       "      <td>589</td>\n",
       "      <td>Aww Skeet Skeet</td>\n",
       "      <td>29</td>\n",
       "    </tr>\n",
       "  </tbody>\n",
       "</table>\n",
       "</div>"
      ],
      "text/plain": [
       "                                    artist   firstName gender  itemInSession  \\\n",
       "0                          Rokia TraorÃÂ©     Stefany      F              0   \n",
       "1                                   Camila      Tucker      M              1   \n",
       "2                              Carl Thomas      Tucker      M              0   \n",
       "3                                 N.E.R.D.       James      M              0   \n",
       "4  Lil Jon / The East Side Boyz / DJ Flexx  Jacqueline      F              3   \n",
       "\n",
       "   lastName     length level                           location  sessionId  \\\n",
       "0     White  274.88608  free                        Lubbock, TX        693   \n",
       "1  Garrison  230.81751  free   Oxnard-Thousand Oaks-Ventura, CA        555   \n",
       "2  Garrison  196.67546  free   Oxnard-Thousand Oaks-Ventura, CA        698   \n",
       "3    Martin  242.99057  free    Dallas-Fort Worth-Arlington, TX         78   \n",
       "4     Lynch  285.30893  paid  Atlanta-Sandy Springs-Roswell, GA        589   \n",
       "\n",
       "                              song  userId  \n",
       "0                              Zen      83  \n",
       "1     Abrazame  (Version Acustica)      40  \n",
       "2  You Ain't Right (Album Version)      40  \n",
       "3      Provider (Remix Radio Edit)      79  \n",
       "4                  Aww Skeet Skeet      29  "
      ]
     },
     "execution_count": 261,
     "metadata": {},
     "output_type": "execute_result"
    }
   ],
   "source": [
    "file = \"event_datafile_new.csv\"\n",
    "df = pd.read_csv(file)\n",
    "df.head(5)"
   ]
  },
  {
   "cell_type": "code",
   "execution_count": 262,
   "metadata": {},
   "outputs": [
    {
     "name": "stdout",
     "output_type": "stream",
     "text": [
      "6820\n"
     ]
    }
   ],
   "source": [
    "data_cnt = len(df)\n",
    "print(data_cnt)"
   ]
  },
  {
   "cell_type": "markdown",
   "metadata": {},
   "source": [
    "### Query1: Give me the artist, song title and song's length in the music app history that was heard during sessionId = 338, and itemInSession  = 4\n",
    "1. Select PRIMARY KEY\n",
    "2. Create TABLE\n",
    "3. Execute QUERY"
   ]
  },
  {
   "cell_type": "markdown",
   "metadata": {},
   "source": [
    "#### 1.Select PRIMARY KEY\n",
    "- Select 'sessionId' and 'itemInSession' that's why query1 includes it in the WHERE clause.\n",
    "- Check them NOT NULL and UNIQUE"
   ]
  },
  {
   "cell_type": "code",
   "execution_count": 263,
   "metadata": {},
   "outputs": [
    {
     "data": {
      "text/plain": [
       "artist           0\n",
       "firstName        0\n",
       "gender           0\n",
       "itemInSession    0\n",
       "lastName         0\n",
       "length           0\n",
       "level            0\n",
       "location         0\n",
       "sessionId        0\n",
       "song             0\n",
       "userId           0\n",
       "dtype: int64"
      ]
     },
     "execution_count": 263,
     "metadata": {},
     "output_type": "execute_result"
    }
   ],
   "source": [
    "df.isnull().sum()"
   ]
  },
  {
   "cell_type": "code",
   "execution_count": 264,
   "metadata": {},
   "outputs": [],
   "source": [
    "df_g_s_i = df.groupby([\"sessionId\", \"itemInSession\"])"
   ]
  },
  {
   "cell_type": "code",
   "execution_count": 265,
   "metadata": {},
   "outputs": [
    {
     "data": {
      "text/plain": [
       "artist       1\n",
       "firstName    1\n",
       "gender       1\n",
       "lastName     1\n",
       "length       1\n",
       "level        1\n",
       "location     1\n",
       "song         1\n",
       "userId       1\n",
       "dtype: int64"
      ]
     },
     "execution_count": 265,
     "metadata": {},
     "output_type": "execute_result"
    }
   ],
   "source": [
    "df_g_s_i.count().max()"
   ]
  },
  {
   "cell_type": "markdown",
   "metadata": {},
   "source": [
    "#### 2.Create TABLE"
   ]
  },
  {
   "cell_type": "code",
   "execution_count": 266,
   "metadata": {},
   "outputs": [
    {
     "data": {
      "text/plain": [
       "Index(['artist', 'firstName', 'gender', 'itemInSession', 'lastName', 'length',\n",
       "       'level', 'location', 'sessionId', 'song', 'userId'],\n",
       "      dtype='object')"
      ]
     },
     "execution_count": 266,
     "metadata": {},
     "output_type": "execute_result"
    }
   ],
   "source": [
    "df.columns"
   ]
  },
  {
   "cell_type": "code",
   "execution_count": 267,
   "metadata": {},
   "outputs": [
    {
     "data": {
      "text/plain": [
       "['artist',\n",
       " 'firstName',\n",
       " 'gender',\n",
       " 'itemInSession',\n",
       " 'lastName',\n",
       " 'length',\n",
       " 'level',\n",
       " 'location',\n",
       " 'sessionId',\n",
       " 'song',\n",
       " 'userId']"
      ]
     },
     "execution_count": 267,
     "metadata": {},
     "output_type": "execute_result"
    }
   ],
   "source": [
    "df_c_list = list(df.columns)\n",
    "df_c_list"
   ]
  },
  {
   "cell_type": "code",
   "execution_count": 268,
   "metadata": {},
   "outputs": [],
   "source": [
    "query1 = \"CREATE TABLE IF NOT EXISTS music_library\"\n",
    "query1 = query1 + \"(sessionId int, itemInSession int, artist text, \\\n",
    "    song text, length float, PRIMARY KEY(sessionId, itemInSession))\"\n",
    "try:\n",
    "    session.execute(query1)\n",
    "except Exception as e:\n",
    "    print(e)"
   ]
  },
  {
   "cell_type": "code",
   "execution_count": 269,
   "metadata": {},
   "outputs": [],
   "source": [
    "with open(file, encoding = \"UTF-8\") as f:\n",
    "    csvreader = csv.reader(f)\n",
    "    next(csvreader)\n",
    "    for line in csvreader:\n",
    "        query1 = \"INSERT INTO music_library (sessionid, iteminsession, artist, song, length)\"\n",
    "        query1 = query1 + \"VALUES(%s, %s, %s, %s, %s)\"\n",
    "        try:\n",
    "            session.execute(query1, (int(line[df_c_list.index('sessionId')]), int(line[df_c_list.index('itemInSession')]),\n",
    "                                     line[df_c_list.index('artist')], line[df_c_list.index('song')],float(line[df_c_list.index('length')])))\n",
    "        except Exception as e:\n",
    "            print(e)        "
   ]
  },
  {
   "cell_type": "markdown",
   "metadata": {},
   "source": [
    "#### 3.Execute query"
   ]
  },
  {
   "cell_type": "code",
   "execution_count": 270,
   "metadata": {},
   "outputs": [],
   "source": [
    "query1 = \"SELECT * FROM music_library WHERE sessionid = 338 AND iteminsession = 4\"\n",
    "\n",
    "try:\n",
    "    rows = session.execute(query1)\n",
    "except Exception as e:\n",
    "    print(e)"
   ]
  },
  {
   "cell_type": "code",
   "execution_count": 271,
   "metadata": {},
   "outputs": [
    {
     "data": {
      "text/html": [
       "<div>\n",
       "<style scoped>\n",
       "    .dataframe tbody tr th:only-of-type {\n",
       "        vertical-align: middle;\n",
       "    }\n",
       "\n",
       "    .dataframe tbody tr th {\n",
       "        vertical-align: top;\n",
       "    }\n",
       "\n",
       "    .dataframe thead th {\n",
       "        text-align: right;\n",
       "    }\n",
       "</style>\n",
       "<table border=\"1\" class=\"dataframe\">\n",
       "  <thead>\n",
       "    <tr style=\"text-align: right;\">\n",
       "      <th></th>\n",
       "      <th>sessionid</th>\n",
       "      <th>iteminsession</th>\n",
       "      <th>artist</th>\n",
       "      <th>length</th>\n",
       "      <th>song</th>\n",
       "    </tr>\n",
       "  </thead>\n",
       "  <tbody>\n",
       "    <tr>\n",
       "      <th>0</th>\n",
       "      <td>338</td>\n",
       "      <td>4</td>\n",
       "      <td>Faithless</td>\n",
       "      <td>495.307312</td>\n",
       "      <td>Music Matters (Mark Knight Dub)</td>\n",
       "    </tr>\n",
       "  </tbody>\n",
       "</table>\n",
       "</div>"
      ],
      "text/plain": [
       "   sessionid  iteminsession     artist      length  \\\n",
       "0        338              4  Faithless  495.307312   \n",
       "\n",
       "                              song  \n",
       "0  Music Matters (Mark Knight Dub)  "
      ]
     },
     "execution_count": 271,
     "metadata": {},
     "output_type": "execute_result"
    }
   ],
   "source": [
    "pd.DataFrame(list(rows))    "
   ]
  },
  {
   "cell_type": "code",
   "execution_count": 272,
   "metadata": {},
   "outputs": [],
   "source": [
    "def pandas_factory(colnames, rows):\n",
    "    return pd.DataFrame(rows, columns=colnames)"
   ]
  },
  {
   "cell_type": "code",
   "execution_count": 273,
   "metadata": {},
   "outputs": [],
   "source": [
    "session.row_factory = pandas_factory\n",
    "session.default_fetch_size = None\n",
    "#df1 =rows.current_rows"
   ]
  },
  {
   "cell_type": "code",
   "execution_count": 274,
   "metadata": {},
   "outputs": [],
   "source": [
    "query1 = \"SELECT * FROM music_library WHERE sessionid = 338 AND iteminsession = 4\"\n",
    "\n",
    "try:\n",
    "    rows = session.execute(query1)\n",
    "except Exception as e:\n",
    "    print(e)"
   ]
  },
  {
   "cell_type": "code",
   "execution_count": 275,
   "metadata": {},
   "outputs": [],
   "source": [
    "df1 =rows._current_rows"
   ]
  },
  {
   "cell_type": "code",
   "execution_count": 276,
   "metadata": {},
   "outputs": [
    {
     "data": {
      "text/html": [
       "<div>\n",
       "<style scoped>\n",
       "    .dataframe tbody tr th:only-of-type {\n",
       "        vertical-align: middle;\n",
       "    }\n",
       "\n",
       "    .dataframe tbody tr th {\n",
       "        vertical-align: top;\n",
       "    }\n",
       "\n",
       "    .dataframe thead th {\n",
       "        text-align: right;\n",
       "    }\n",
       "</style>\n",
       "<table border=\"1\" class=\"dataframe\">\n",
       "  <thead>\n",
       "    <tr style=\"text-align: right;\">\n",
       "      <th></th>\n",
       "      <th>sessionid</th>\n",
       "      <th>iteminsession</th>\n",
       "      <th>artist</th>\n",
       "      <th>length</th>\n",
       "      <th>song</th>\n",
       "    </tr>\n",
       "  </thead>\n",
       "  <tbody>\n",
       "    <tr>\n",
       "      <th>0</th>\n",
       "      <td>338</td>\n",
       "      <td>4</td>\n",
       "      <td>Faithless</td>\n",
       "      <td>495.307312</td>\n",
       "      <td>Music Matters (Mark Knight Dub)</td>\n",
       "    </tr>\n",
       "  </tbody>\n",
       "</table>\n",
       "</div>"
      ],
      "text/plain": [
       "   sessionid  iteminsession     artist      length  \\\n",
       "0        338              4  Faithless  495.307312   \n",
       "\n",
       "                              song  \n",
       "0  Music Matters (Mark Knight Dub)  "
      ]
     },
     "execution_count": 276,
     "metadata": {},
     "output_type": "execute_result"
    }
   ],
   "source": [
    "df1"
   ]
  },
  {
   "cell_type": "markdown",
   "metadata": {},
   "source": [
    "### Query2: Give me only the following: name of artist, song (sorted by itemInSession) and user (first and last name) for userid = 10, sessionid = 182\n",
    "1. Select PRIMARY KEY\n",
    "2. Create TABLE\n",
    "3. Execute QUERY"
   ]
  },
  {
   "cell_type": "markdown",
   "metadata": {},
   "source": [
    "#### 1.Select PRIMARY KEY\n",
    "- Select 'userid' ,'sessionid' for partition key that's why they are in the WHERE clause. Also select 'itemInSession for sorted clause.\n",
    "- Check them NOT NULL and UNIQUE"
   ]
  },
  {
   "cell_type": "code",
   "execution_count": 277,
   "metadata": {},
   "outputs": [
    {
     "data": {
      "text/plain": [
       "artist           0\n",
       "firstName        0\n",
       "gender           0\n",
       "itemInSession    0\n",
       "lastName         0\n",
       "length           0\n",
       "level            0\n",
       "location         0\n",
       "sessionId        0\n",
       "song             0\n",
       "userId           0\n",
       "dtype: int64"
      ]
     },
     "execution_count": 277,
     "metadata": {},
     "output_type": "execute_result"
    }
   ],
   "source": [
    "df.isnull().sum()"
   ]
  },
  {
   "cell_type": "code",
   "execution_count": 278,
   "metadata": {},
   "outputs": [],
   "source": [
    "df_g_u_s_i = df.groupby(['userId', 'sessionId', 'itemInSession'])"
   ]
  },
  {
   "cell_type": "code",
   "execution_count": 279,
   "metadata": {},
   "outputs": [
    {
     "data": {
      "text/plain": [
       "artist       1\n",
       "firstName    1\n",
       "gender       1\n",
       "lastName     1\n",
       "length       1\n",
       "level        1\n",
       "location     1\n",
       "song         1\n",
       "dtype: int64"
      ]
     },
     "execution_count": 279,
     "metadata": {},
     "output_type": "execute_result"
    }
   ],
   "source": [
    "df_g_u_s_i.count().max()"
   ]
  },
  {
   "cell_type": "markdown",
   "metadata": {},
   "source": [
    "#### 2.Create TABLE"
   ]
  },
  {
   "cell_type": "code",
   "execution_count": 280,
   "metadata": {},
   "outputs": [],
   "source": [
    "query2 = \"CREATE TABLE IF NOT EXISTS user_library\"\n",
    "query2 = query2 + \"(userId int, sessionId int, itemInSession int, artist text, song text, firstName text, lastName text, PRIMARY KEY((userId, sessionId), itemInSession))\\\n",
    "    WITH CLUSTERING ORDER BY (itemInSession DESC)\"\n",
    "try:\n",
    "    session.execute(query2)\n",
    "except Exception as e:\n",
    "    print(e)"
   ]
  },
  {
   "cell_type": "code",
   "execution_count": 281,
   "metadata": {},
   "outputs": [],
   "source": [
    "a1 = df_c_list.index('userId')\n",
    "b1 = df_c_list.index('sessionId')\n",
    "c1 = df_c_list.index('itemInSession')\n",
    "d1 = df_c_list.index('artist')\n",
    "e1 = df_c_list.index('song')\n",
    "f1 = df_c_list.index('firstName')\n",
    "g1 = df_c_list.index('lastName')\n",
    "\n",
    "with open(file, encoding ='UTF-8') as f:\n",
    "    csvreader = csv.reader(f)\n",
    "    next(csvreader)\n",
    "    for line in csvreader:\n",
    "        query2 = \"INSERT INTO user_library (userid, sessionid, iteminsession, artist, song, firstname, lastname)\"\n",
    "        query2 = query2 + \"VALUES(%s, %s, %s, %s, %s, %s, %s)\"\n",
    "        try:\n",
    "            session.execute(query2, (int(line[a1]), int(line[b1]), int(line[c1]), line[d1], line[e1], line[f1], line[g1]))\n",
    "        except Exception as e:\n",
    "            print(e)"
   ]
  },
  {
   "cell_type": "markdown",
   "metadata": {},
   "source": [
    "#### 3.Execute query"
   ]
  },
  {
   "cell_type": "code",
   "execution_count": 282,
   "metadata": {},
   "outputs": [],
   "source": [
    "query2 = \"SELECT * FROM user_library WHERE userid = 10 AND sessionId = 182 ORDER BY iteminsession DESC\"\n",
    "try:\n",
    "    rows = session.execute(query2)\n",
    "except Exception as e:\n",
    "    print(e)"
   ]
  },
  {
   "cell_type": "code",
   "execution_count": 283,
   "metadata": {},
   "outputs": [],
   "source": [
    "df2 = rows._current_rows"
   ]
  },
  {
   "cell_type": "code",
   "execution_count": 284,
   "metadata": {},
   "outputs": [
    {
     "data": {
      "text/html": [
       "<div>\n",
       "<style scoped>\n",
       "    .dataframe tbody tr th:only-of-type {\n",
       "        vertical-align: middle;\n",
       "    }\n",
       "\n",
       "    .dataframe tbody tr th {\n",
       "        vertical-align: top;\n",
       "    }\n",
       "\n",
       "    .dataframe thead th {\n",
       "        text-align: right;\n",
       "    }\n",
       "</style>\n",
       "<table border=\"1\" class=\"dataframe\">\n",
       "  <thead>\n",
       "    <tr style=\"text-align: right;\">\n",
       "      <th></th>\n",
       "      <th>userid</th>\n",
       "      <th>sessionid</th>\n",
       "      <th>iteminsession</th>\n",
       "      <th>artist</th>\n",
       "      <th>firstname</th>\n",
       "      <th>lastname</th>\n",
       "      <th>song</th>\n",
       "    </tr>\n",
       "  </thead>\n",
       "  <tbody>\n",
       "    <tr>\n",
       "      <th>0</th>\n",
       "      <td>10</td>\n",
       "      <td>182</td>\n",
       "      <td>3</td>\n",
       "      <td>Lonnie Gordon</td>\n",
       "      <td>Sylvie</td>\n",
       "      <td>Cruz</td>\n",
       "      <td>Catch You Baby (Steve Pitron &amp; Max Sanna Radio...</td>\n",
       "    </tr>\n",
       "    <tr>\n",
       "      <th>1</th>\n",
       "      <td>10</td>\n",
       "      <td>182</td>\n",
       "      <td>2</td>\n",
       "      <td>Sebastien Tellier</td>\n",
       "      <td>Sylvie</td>\n",
       "      <td>Cruz</td>\n",
       "      <td>Kilometer</td>\n",
       "    </tr>\n",
       "    <tr>\n",
       "      <th>2</th>\n",
       "      <td>10</td>\n",
       "      <td>182</td>\n",
       "      <td>1</td>\n",
       "      <td>Three Drives</td>\n",
       "      <td>Sylvie</td>\n",
       "      <td>Cruz</td>\n",
       "      <td>Greece 2000</td>\n",
       "    </tr>\n",
       "    <tr>\n",
       "      <th>3</th>\n",
       "      <td>10</td>\n",
       "      <td>182</td>\n",
       "      <td>0</td>\n",
       "      <td>Down To The Bone</td>\n",
       "      <td>Sylvie</td>\n",
       "      <td>Cruz</td>\n",
       "      <td>Keep On Keepin' On</td>\n",
       "    </tr>\n",
       "  </tbody>\n",
       "</table>\n",
       "</div>"
      ],
      "text/plain": [
       "   userid  sessionid  iteminsession             artist firstname lastname  \\\n",
       "0      10        182              3      Lonnie Gordon    Sylvie     Cruz   \n",
       "1      10        182              2  Sebastien Tellier    Sylvie     Cruz   \n",
       "2      10        182              1       Three Drives    Sylvie     Cruz   \n",
       "3      10        182              0   Down To The Bone    Sylvie     Cruz   \n",
       "\n",
       "                                                song  \n",
       "0  Catch You Baby (Steve Pitron & Max Sanna Radio...  \n",
       "1                                          Kilometer  \n",
       "2                                        Greece 2000  \n",
       "3                                 Keep On Keepin' On  "
      ]
     },
     "execution_count": 284,
     "metadata": {},
     "output_type": "execute_result"
    }
   ],
   "source": [
    "df2"
   ]
  },
  {
   "cell_type": "markdown",
   "metadata": {},
   "source": [
    "### Query3: Give me every user name (first and last) in my music app history who listened to the song 'All Hands Against His Own'\n",
    "1. Select PRIMARY KEY\n",
    "2. Create TABLE\n",
    "3. Execute QUERY"
   ]
  },
  {
   "cell_type": "markdown",
   "metadata": {},
   "source": [
    "#### 1.Select PRIMARY KEY\n",
    "- Select 'song' for partition key that's why they are in the WHERE clause. Also select 'userid' for clustering and uniquely.\n",
    "- Check them NOT NULL and UNIQUE"
   ]
  },
  {
   "cell_type": "code",
   "execution_count": 285,
   "metadata": {},
   "outputs": [
    {
     "data": {
      "text/plain": [
       "artist           0\n",
       "firstName        0\n",
       "gender           0\n",
       "itemInSession    0\n",
       "lastName         0\n",
       "length           0\n",
       "level            0\n",
       "location         0\n",
       "sessionId        0\n",
       "song             0\n",
       "userId           0\n",
       "dtype: int64"
      ]
     },
     "execution_count": 285,
     "metadata": {},
     "output_type": "execute_result"
    }
   ],
   "source": [
    "df.isnull().sum()"
   ]
  },
  {
   "cell_type": "code",
   "execution_count": 286,
   "metadata": {},
   "outputs": [],
   "source": [
    "df_g_s_u_s_i = df.groupby(['song', 'userId', 'sessionId', 'itemInSession'])"
   ]
  },
  {
   "cell_type": "code",
   "execution_count": 287,
   "metadata": {},
   "outputs": [
    {
     "data": {
      "text/plain": [
       "artist       1\n",
       "firstName    1\n",
       "gender       1\n",
       "lastName     1\n",
       "length       1\n",
       "level        1\n",
       "location     1\n",
       "dtype: int64"
      ]
     },
     "execution_count": 287,
     "metadata": {},
     "output_type": "execute_result"
    }
   ],
   "source": [
    "df_g_s_u_s_i.count().max()"
   ]
  },
  {
   "cell_type": "markdown",
   "metadata": {},
   "source": [
    "#### 2.Create TABLE"
   ]
  },
  {
   "cell_type": "code",
   "execution_count": 288,
   "metadata": {},
   "outputs": [],
   "source": [
    "query3 = \"CREATE TABLE IF NOT EXISTS history\"\n",
    "query3 = query3 + \"(song text, userId int, sessionId int, itemInSession int, firstName text, lastName text, PRIMARY KEY(song, userId, sessionId, itemInSession))\"\n",
    "try:\n",
    "    session.execute(query3)\n",
    "except Exception as e:\n",
    "    print(e)"
   ]
  },
  {
   "cell_type": "code",
   "execution_count": 293,
   "metadata": {},
   "outputs": [],
   "source": [
    "a1 = df_c_list.index('song')\n",
    "b1 = df_c_list.index('userId')\n",
    "c1 = df_c_list.index('sessionId')\n",
    "d1 = df_c_list.index('itemInSession')\n",
    "e1 = df_c_list.index('firstName')\n",
    "f1 = df_c_list.index('lastName')\n",
    "\n",
    "with open(file, encoding ='UTF-8') as f:\n",
    "    csvreader = csv.reader(f)\n",
    "    next(csvreader)\n",
    "    for line in csvreader:\n",
    "        query3 = \"INSERT INTO history (song, userid, sessionid, iteminsession, firstname, lastname)\"\n",
    "        query3 = query3 + \"VALUES(%s, %s, %s, %s, %s, %s)\"\n",
    "        try:\n",
    "            session.execute(query3, (line[a1], int(line[b1]), int(line[c1]), int(line[d1]), line[e1], line[f1]))\n",
    "        except Exception as e:\n",
    "            print(e)"
   ]
  },
  {
   "cell_type": "markdown",
   "metadata": {},
   "source": [
    "#### 3.Execute query"
   ]
  },
  {
   "cell_type": "code",
   "execution_count": 294,
   "metadata": {},
   "outputs": [],
   "source": [
    "query3 = \"SELECT * FROM history WHERE song ='All Hands Against His Own'\"\n",
    "\n",
    "try:\n",
    "    rows = session.execute(query3)\n",
    "except Exception as e:\n",
    "    print(e)"
   ]
  },
  {
   "cell_type": "code",
   "execution_count": 295,
   "metadata": {},
   "outputs": [],
   "source": [
    "df3 = rows._current_rows"
   ]
  },
  {
   "cell_type": "code",
   "execution_count": 296,
   "metadata": {},
   "outputs": [
    {
     "data": {
      "text/html": [
       "<div>\n",
       "<style scoped>\n",
       "    .dataframe tbody tr th:only-of-type {\n",
       "        vertical-align: middle;\n",
       "    }\n",
       "\n",
       "    .dataframe tbody tr th {\n",
       "        vertical-align: top;\n",
       "    }\n",
       "\n",
       "    .dataframe thead th {\n",
       "        text-align: right;\n",
       "    }\n",
       "</style>\n",
       "<table border=\"1\" class=\"dataframe\">\n",
       "  <thead>\n",
       "    <tr style=\"text-align: right;\">\n",
       "      <th></th>\n",
       "      <th>song</th>\n",
       "      <th>userid</th>\n",
       "      <th>sessionid</th>\n",
       "      <th>iteminsession</th>\n",
       "      <th>firstname</th>\n",
       "      <th>lastname</th>\n",
       "    </tr>\n",
       "  </thead>\n",
       "  <tbody>\n",
       "    <tr>\n",
       "      <th>0</th>\n",
       "      <td>All Hands Against His Own</td>\n",
       "      <td>29</td>\n",
       "      <td>559</td>\n",
       "      <td>50</td>\n",
       "      <td>Jacqueline</td>\n",
       "      <td>Lynch</td>\n",
       "    </tr>\n",
       "    <tr>\n",
       "      <th>1</th>\n",
       "      <td>All Hands Against His Own</td>\n",
       "      <td>80</td>\n",
       "      <td>611</td>\n",
       "      <td>25</td>\n",
       "      <td>Tegan</td>\n",
       "      <td>Levine</td>\n",
       "    </tr>\n",
       "    <tr>\n",
       "      <th>2</th>\n",
       "      <td>All Hands Against His Own</td>\n",
       "      <td>95</td>\n",
       "      <td>152</td>\n",
       "      <td>31</td>\n",
       "      <td>Sara</td>\n",
       "      <td>Johnson</td>\n",
       "    </tr>\n",
       "  </tbody>\n",
       "</table>\n",
       "</div>"
      ],
      "text/plain": [
       "                        song  userid  sessionid  iteminsession   firstname  \\\n",
       "0  All Hands Against His Own      29        559             50  Jacqueline   \n",
       "1  All Hands Against His Own      80        611             25       Tegan   \n",
       "2  All Hands Against His Own      95        152             31        Sara   \n",
       "\n",
       "  lastname  \n",
       "0    Lynch  \n",
       "1   Levine  \n",
       "2  Johnson  "
      ]
     },
     "execution_count": 296,
     "metadata": {},
     "output_type": "execute_result"
    }
   ],
   "source": [
    "df3"
   ]
  },
  {
   "cell_type": "markdown",
   "metadata": {},
   "source": [
    "## 3.Drop tables"
   ]
  },
  {
   "cell_type": "code",
   "execution_count": 303,
   "metadata": {},
   "outputs": [],
   "source": [
    "query1 = \"DROP TABLE IF EXISTS music_library\"\n",
    "\n",
    "try:\n",
    "    session.execute(query1)\n",
    "except Exception as e:\n",
    "    print(e)"
   ]
  },
  {
   "cell_type": "code",
   "execution_count": 304,
   "metadata": {},
   "outputs": [],
   "source": [
    "query2 = \"DROP TABLE IF EXISTS user_library\"\n",
    "\n",
    "try:\n",
    "    session.execute(query2)\n",
    "except Exception as e:\n",
    "    print(e)"
   ]
  },
  {
   "cell_type": "code",
   "execution_count": 305,
   "metadata": {},
   "outputs": [],
   "source": [
    "query3 = \"DROP TABLE IF EXISTS history\"\n",
    "\n",
    "try:\n",
    "    session.execute(query3)\n",
    "except Exception as e:\n",
    "    print(e)"
   ]
  },
  {
   "cell_type": "code",
   "execution_count": null,
   "metadata": {},
   "outputs": [],
   "source": [
    "\n",
    "\n",
    "session.row_factory = pandas_factory\n",
    "session.default_fetch_size = None\n",
    "\n",
    "query = \"SELECT ...\"\n",
    "rslt = session.execute(query, timeout=None)\n",
    "df = rslt._current_rows"
   ]
  }
 ],
 "metadata": {
  "kernelspec": {
   "display_name": "Python 3",
   "language": "python",
   "name": "python3"
  },
  "language_info": {
   "codemirror_mode": {
    "name": "ipython",
    "version": 3
   },
   "file_extension": ".py",
   "mimetype": "text/x-python",
   "name": "python",
   "nbconvert_exporter": "python",
   "pygments_lexer": "ipython3",
   "version": "3.6.3"
  }
 },
 "nbformat": 4,
 "nbformat_minor": 2
}
